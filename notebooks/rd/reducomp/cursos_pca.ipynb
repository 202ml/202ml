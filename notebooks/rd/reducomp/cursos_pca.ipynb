{
  "cells": [
    {
      "metadata": {
        "trusted": true
      },
      "cell_type": "code",
      "source": "import numpy as np\nimport pandas as pd\nimport matplotlib.pyplot as plt\nimport seaborn as sns\n",
      "execution_count": 1,
      "outputs": [
        {
          "output_type": "stream",
          "text": "/home/nbuser/anaconda3_501/lib/python3.6/site-packages/matplotlib/font_manager.py:229: UserWarning: Matplotlib is building the font cache using fc-list. This may take a moment.\n  'Matplotlib is building the font cache using fc-list. '\n",
          "name": "stderr"
        }
      ]
    },
    {
      "metadata": {
        "trusted": true
      },
      "cell_type": "code",
      "source": "from sklearn.model_selection import train_test_split\nfrom sklearn.metrics import r2_score, accuracy_score\nfrom sklearn.metrics import classification_report",
      "execution_count": 2,
      "outputs": []
    },
    {
      "metadata": {
        "trusted": true
      },
      "cell_type": "code",
      "source": "df = pd.read_csv('../notas.csv')\n#df",
      "execution_count": 3,
      "outputs": []
    },
    {
      "metadata": {
        "trusted": true
      },
      "cell_type": "code",
      "source": "X=df[['Matematica', 'Lenguaje', 'Fisica', 'Estadistica','Filosofia']]\nX.columns",
      "execution_count": 4,
      "outputs": [
        {
          "output_type": "execute_result",
          "execution_count": 4,
          "data": {
            "text/plain": "Index(['Matematica', 'Lenguaje', 'Fisica', 'Estadistica', 'Filosofia'], dtype='object')"
          },
          "metadata": {}
        }
      ]
    },
    {
      "metadata": {
        "trusted": true
      },
      "cell_type": "code",
      "source": "from sklearn import decomposition",
      "execution_count": 5,
      "outputs": []
    },
    {
      "metadata": {
        "trusted": true
      },
      "cell_type": "code",
      "source": "pca=decomposition.PCA(n_components=2)\npca.fit(X) ",
      "execution_count": 6,
      "outputs": [
        {
          "output_type": "execute_result",
          "execution_count": 6,
          "data": {
            "text/plain": "PCA(copy=True, iterated_power='auto', n_components=2, random_state=None,\n  svd_solver='auto', tol=0.0, whiten=False)"
          },
          "metadata": {}
        }
      ]
    },
    {
      "metadata": {
        "trusted": true
      },
      "cell_type": "code",
      "source": "print(pca.explained_variance_ratio_)  ",
      "execution_count": 7,
      "outputs": [
        {
          "output_type": "stream",
          "text": "[0.47921175 0.32897272]\n",
          "name": "stdout"
        }
      ]
    },
    {
      "metadata": {
        "trusted": true
      },
      "cell_type": "code",
      "source": "df=pd.DataFrame({'Varianza':pca.explained_variance_ratio_,'Componente':['PC1','PC2']})\ndf",
      "execution_count": 14,
      "outputs": [
        {
          "output_type": "execute_result",
          "execution_count": 14,
          "data": {
            "text/html": "<div>\n<style scoped>\n    .dataframe tbody tr th:only-of-type {\n        vertical-align: middle;\n    }\n\n    .dataframe tbody tr th {\n        vertical-align: top;\n    }\n\n    .dataframe thead th {\n        text-align: right;\n    }\n</style>\n<table border=\"1\" class=\"dataframe\">\n  <thead>\n    <tr style=\"text-align: right;\">\n      <th></th>\n      <th>Varianza</th>\n      <th>Componente</th>\n    </tr>\n  </thead>\n  <tbody>\n    <tr>\n      <th>0</th>\n      <td>0.479212</td>\n      <td>PC1</td>\n    </tr>\n    <tr>\n      <th>1</th>\n      <td>0.328973</td>\n      <td>PC2</td>\n    </tr>\n  </tbody>\n</table>\n</div>",
            "text/plain": "   Varianza Componente\n0  0.479212        PC1\n1  0.328973        PC2"
          },
          "metadata": {}
        }
      ]
    },
    {
      "metadata": {
        "trusted": true
      },
      "cell_type": "code",
      "source": "plt.figure()\nsns.barplot(x='Componente',y='Varianza',data=df,color='c')",
      "execution_count": 15,
      "outputs": [
        {
          "output_type": "execute_result",
          "execution_count": 15,
          "data": {
            "text/plain": "<matplotlib.axes._subplots.AxesSubplot at 0x7f99a216a358>"
          },
          "metadata": {}
        },
        {
          "output_type": "display_data",
          "data": {
            "image/png": "[encoded data removed]",
            "text/plain": "<Figure size 432x288 with 1 Axes>"
          },
          "metadata": {
            "needs_background": "light"
          }
        }
      ]
    },
    {
      "metadata": {
        "trusted": true
      },
      "cell_type": "code",
      "source": "print(pca.singular_values_)  ",
      "execution_count": 8,
      "outputs": [
        {
          "output_type": "stream",
          "text": "[11.47655657  9.50884603]\n",
          "name": "stdout"
        }
      ]
    },
    {
      "metadata": {
        "trusted": true
      },
      "cell_type": "code",
      "source": "#https://scikit-learn.org/stable/modules/generated/sklearn.decomposition.PCA.html",
      "execution_count": null,
      "outputs": []
    },
    {
      "metadata": {
        "trusted": true
      },
      "cell_type": "code",
      "source": "#X=pca.fit_transform(X)\nX = pca.transform(X) # el nuevo X\nX",
      "execution_count": 11,
      "outputs": [
        {
          "output_type": "execute_result",
          "execution_count": 11,
          "data": {
            "text/plain": "array([[ 0.95612772,  0.51140672],\n       [ 2.33060441, -0.85624975],\n       [-3.27363893,  1.08901189],\n       [ 4.60305462, -0.23720581],\n       [-0.21347865, -1.44093352],\n       [ 4.07163534, -0.15816296],\n       [-0.93819598, -0.98492574],\n       [-2.34558253, -4.71877768],\n       [ 0.93585009,  0.23733116],\n       [ 0.83507773, -4.23033903],\n       [-3.48227904, -1.5696095 ],\n       [-3.08920333,  1.86323219],\n       [ 2.02904575,  2.60430786],\n       [-2.36326898,  4.80939648],\n       [-4.04323127,  0.6610869 ],\n       [-2.45223326,  0.4924432 ],\n       [ 1.73619238,  1.91577467],\n       [ 1.89874046,  0.28829122],\n       [-0.11353045, -1.64997927],\n       [ 2.91831391,  1.37390095]])"
          },
          "metadata": {}
        }
      ]
    },
    {
      "metadata": {
        "trusted": true
      },
      "cell_type": "code",
      "source": "#Iris example\n#https://scikit-learn.org/stable/auto_examples/decomposition/plot_pca_iris.html#sphx-glr-auto-examples-decomposition-plot-pca-iris-py",
      "execution_count": null,
      "outputs": []
    },
    {
      "metadata": {
        "trusted": true
      },
      "cell_type": "code",
      "source": "",
      "execution_count": null,
      "outputs": []
    }
  ],
  "metadata": {
    "kernelspec": {
      "name": "python36",
      "display_name": "Python 3.6",
      "language": "python"
    },
    "language_info": {
      "mimetype": "text/x-python",
      "nbconvert_exporter": "python",
      "name": "python",
      "pygments_lexer": "ipython3",
      "version": "3.6.6",
      "file_extension": ".py",
      "codemirror_mode": {
        "version": 3,
        "name": "ipython"
      }
    }
  },
  "nbformat": 4,
  "nbformat_minor": 1
}